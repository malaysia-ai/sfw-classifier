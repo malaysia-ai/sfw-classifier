{
 "cells": [
  {
   "cell_type": "code",
   "execution_count": 6,
   "id": "65f45918",
   "metadata": {},
   "outputs": [],
   "source": [
    "import fasttext\n",
    "import json\n",
    "from tqdm import tqdm\n",
    "import random"
   ]
  },
  {
   "cell_type": "code",
   "execution_count": 7,
   "id": "74038aeb",
   "metadata": {},
   "outputs": [
    {
     "name": "stderr",
     "output_type": "stream",
     "text": [
      "Warning : `load_model` does not return WordVectorModel or SupervisedModel any more, but a `FastText` object which is very similar.\n"
     ]
    }
   ],
   "source": [
    "model = fasttext.load_model('model-16.bin')"
   ]
  },
  {
   "cell_type": "code",
   "execution_count": 8,
   "id": "21b19bd2",
   "metadata": {},
   "outputs": [
    {
     "data": {
      "text/plain": [
       "(('__label__indon', '__label__malay', '__label__english'),\n",
       " array([0.94277763, 0.05428384, 0.00297746]))"
      ]
     },
     "execution_count": 8,
     "metadata": {},
     "output_type": "execute_result"
    }
   ],
   "source": [
    "model.predict('nggak', k = 3)"
   ]
  },
  {
   "cell_type": "code",
   "execution_count": 9,
   "id": "11f8e180",
   "metadata": {},
   "outputs": [],
   "source": [
    "data = []\n",
    "\n",
    "with open('tweets-nsfw.jsonl') as fopen:\n",
    "    for x in fopen:\n",
    "        data.append(json.loads(x))"
   ]
  },
  {
   "cell_type": "code",
   "execution_count": 10,
   "id": "4c62f3bc",
   "metadata": {},
   "outputs": [
    {
     "name": "stderr",
     "output_type": "stream",
     "text": [
      "100%|██████████| 19079/19079 [00:00<00:00, 127871.28it/s]\n"
     ]
    }
   ],
   "source": [
    "malay = []\n",
    "\n",
    "for i in tqdm(data):\n",
    "    result = model.predict(i['Content'].replace('\\n',''), k = 3)\n",
    "    if (result[0][0] == '__label__malay') or (result[0][0] == '__label__english'):\n",
    "        i['label'] = result[0][0]\n",
    "        i['score'] = result[1][0]\n",
    "        malay.append(i)"
   ]
  },
  {
   "cell_type": "code",
   "execution_count": 11,
   "id": "445edc17",
   "metadata": {},
   "outputs": [
    {
     "data": {
      "text/plain": [
       "15715"
      ]
     },
     "execution_count": 11,
     "metadata": {},
     "output_type": "execute_result"
    }
   ],
   "source": [
    "len(malay)"
   ]
  },
  {
   "cell_type": "code",
   "execution_count": 13,
   "id": "5ea54b64",
   "metadata": {},
   "outputs": [],
   "source": [
    "random.shuffle(malay)"
   ]
  },
  {
   "cell_type": "code",
   "execution_count": 13,
   "id": "265ff816",
   "metadata": {},
   "outputs": [],
   "source": [
    "malay[100:200]"
   ]
  },
  {
   "cell_type": "code",
   "execution_count": 15,
   "id": "e0319b7a",
   "metadata": {},
   "outputs": [
    {
     "data": {
      "text/plain": [
       "'__label__english'"
      ]
     },
     "execution_count": 15,
     "metadata": {},
     "output_type": "execute_result"
    }
   ],
   "source": [
    "result[0][0]"
   ]
  },
  {
   "cell_type": "code",
   "execution_count": null,
   "id": "d3d4639f",
   "metadata": {},
   "outputs": [],
   "source": [
    "!rm -rf nsfw-tweets-en-ms.jsonl"
   ]
  },
  {
   "cell_type": "code",
   "execution_count": 14,
   "id": "86438ac1",
   "metadata": {},
   "outputs": [],
   "source": [
    "for x in malay:\n",
    "    with open('nsfw-tweets-en-ms.jsonl','a') as f:\n",
    "        json.dump(x,f)\n",
    "        f.write('\\n')"
   ]
  }
 ],
 "metadata": {
  "kernelspec": {
   "display_name": "Python 3 (ipykernel)",
   "language": "python",
   "name": "python3"
  },
  "language_info": {
   "codemirror_mode": {
    "name": "ipython",
    "version": 3
   },
   "file_extension": ".py",
   "mimetype": "text/x-python",
   "name": "python",
   "nbconvert_exporter": "python",
   "pygments_lexer": "ipython3",
   "version": "3.10.12"
  }
 },
 "nbformat": 4,
 "nbformat_minor": 5
}
