{
 "cells": [
  {
   "cell_type": "code",
   "execution_count": 3,
   "id": "e8644794",
   "metadata": {},
   "outputs": [],
   "source": [
    "# !wget https://huggingface.co/datasets/malaysia-ai/Malaysian-NSFW/resolve/main/malaysian-dataset-sfw-dedup-v2.jsonl"
   ]
  },
  {
   "cell_type": "code",
   "execution_count": 16,
   "id": "79952ca6",
   "metadata": {},
   "outputs": [],
   "source": [
    "import json\n",
    "from tqdm import tqdm\n",
    "import requests\n",
    "import os"
   ]
  },
  {
   "cell_type": "code",
   "execution_count": 5,
   "id": "eef9d17e",
   "metadata": {},
   "outputs": [],
   "source": [
    "texts = []\n",
    "with open('malaysian-dataset-sfw-dedup-v2.jsonl') as fopen:\n",
    "    for l in fopen:\n",
    "        l = json.loads(l)\n",
    "        texts.append(l['text'])"
   ]
  },
  {
   "cell_type": "code",
   "execution_count": 9,
   "id": "58402208",
   "metadata": {},
   "outputs": [],
   "source": [
    "headers = {\n",
    "    'accept': 'application/json',\n",
    "    'Content-Type': 'application/json',\n",
    "}\n",
    "\n",
    "json_data = {\n",
    "    'input': 'string',\n",
    "}\n",
    "\n",
    "response = requests.post('http://api/v1/embeddings', headers=headers, json=json_data)"
   ]
  },
  {
   "cell_type": "code",
   "execution_count": 15,
   "id": "46d82a50",
   "metadata": {},
   "outputs": [],
   "source": [
    "!mkdir nsfw-embedding"
   ]
  },
  {
   "cell_type": "code",
   "execution_count": 21,
   "id": "c69fbd8f",
   "metadata": {},
   "outputs": [
    {
     "name": "stderr",
     "output_type": "stream",
     "text": [
      "100%|███████████████████████████████████████████████████████████████████████████████████████████████████| 203177/203177 [1:49:34<00:00, 30.90it/s]\n"
     ]
    }
   ],
   "source": [
    "for i in tqdm(range(len(texts))):\n",
    "    filename = os.path.join('nsfw-embedding', f'{i}.json')\n",
    "    if os.path.exists(filename):\n",
    "        continue\n",
    "    \n",
    "    json_data = {\n",
    "        'input': texts[i],\n",
    "    }\n",
    "\n",
    "    response = requests.post('http://100.93.25.29:7077/v1/embeddings', headers=headers, json=json_data)\n",
    "    \n",
    "    with open(filename, 'w') as fopen:\n",
    "        json.dump(response.json(), fopen)"
   ]
  },
  {
   "cell_type": "code",
   "execution_count": 22,
   "id": "def700e5",
   "metadata": {},
   "outputs": [],
   "source": [
    "texts = []\n",
    "with open('malaysian-dataset-sfw-dedup-v2.jsonl') as fopen:\n",
    "    for l in fopen:\n",
    "        l = json.loads(l)\n",
    "        texts.append(l)"
   ]
  },
  {
   "cell_type": "code",
   "execution_count": 23,
   "id": "20986c52",
   "metadata": {},
   "outputs": [
    {
     "data": {
      "text/plain": [
       "{'text': 'I feel like a useless friend, I promised myself that I will support my friends as best as I can. But I also hope that my friends understand my capabilities.',\n",
       " 'label': 'psychiatric or mental illness'}"
      ]
     },
     "execution_count": 23,
     "metadata": {},
     "output_type": "execute_result"
    }
   ],
   "source": [
    "texts[0]"
   ]
  },
  {
   "cell_type": "code",
   "execution_count": 32,
   "id": "97f42f07",
   "metadata": {},
   "outputs": [
    {
     "name": "stderr",
     "output_type": "stream",
     "text": [
      "100%|███████████████████████████████████████████████████████████████████████████████████████████████████| 203177/203177 [03:03<00:00, 1106.24it/s]\n"
     ]
    }
   ],
   "source": [
    "with open('nsfw-embedding.jsonl', 'w') as fopen_l:\n",
    "    for i in tqdm(range(len(texts))):\n",
    "        filename = os.path.join('nsfw-embedding', f'{i}.json')\n",
    "        if not os.path.exists(filename):\n",
    "            continue\n",
    "        with open(filename) as fopen:\n",
    "            d = json.load(fopen)\n",
    "        d = {\n",
    "            'embedding': d['data'][0]['embedding'],\n",
    "            **texts[i]\n",
    "        }\n",
    "        fopen_l.write(f'{json.dumps(d)}\\n')\n",
    "        fopen_l.flush()"
   ]
  },
  {
   "cell_type": "code",
   "execution_count": null,
   "id": "d18e6698",
   "metadata": {},
   "outputs": [
    {
     "data": {
      "application/vnd.jupyter.widget-view+json": {
       "model_id": "af19a120fa22432185f9ec6a69766b1b",
       "version_major": 2,
       "version_minor": 0
      },
      "text/plain": [
       "nsfw-embedding.jsonl:   0%|          | 0.00/3.60G [00:00<?, ?B/s]"
      ]
     },
     "metadata": {},
     "output_type": "display_data"
    }
   ],
   "source": [
    "from huggingface_hub import HfApi\n",
    "api = HfApi()\n",
    "api.upload_file(\n",
    "    path_or_fileobj=\"nsfw-embedding.jsonl\",\n",
    "    path_in_repo=\"nsfw-embedding.jsonl\",\n",
    "    repo_id=\"malaysia-ai/Malaysian-NSFW-embedding\",\n",
    "    repo_type=\"dataset\",\n",
    ")"
   ]
  },
  {
   "cell_type": "code",
   "execution_count": null,
   "id": "54eedc3d",
   "metadata": {},
   "outputs": [],
   "source": []
  }
 ],
 "metadata": {
  "kernelspec": {
   "display_name": "Python 3 (ipykernel)",
   "language": "python",
   "name": "python3"
  },
  "language_info": {
   "codemirror_mode": {
    "name": "ipython",
    "version": 3
   },
   "file_extension": ".py",
   "mimetype": "text/x-python",
   "name": "python",
   "nbconvert_exporter": "python",
   "pygments_lexer": "ipython3",
   "version": "3.8.10"
  }
 },
 "nbformat": 4,
 "nbformat_minor": 5
}
