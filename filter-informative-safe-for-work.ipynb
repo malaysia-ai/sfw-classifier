{
 "cells": [
  {
   "cell_type": "code",
   "execution_count": 1,
   "id": "9f9d9c2c",
   "metadata": {},
   "outputs": [],
   "source": [
    "import json\n",
    "from tqdm import tqdm\n",
    "import torch.nn.functional as F\n",
    "from torch import Tensor\n",
    "from transformers import AutoTokenizer, AutoModel\n",
    "from tqdm import tqdm\n",
    "import json\n",
    "import numpy as np\n",
    "import matplotlib.pyplot as plt\n",
    "from sklearn.manifold import TSNE\n",
    "import torch\n",
    "import nltk\n",
    "from nltk.corpus import stopwords\n",
    "from nltk.tokenize import word_tokenize\n",
    "from nltk.util import ngrams\n",
    "from wordcloud import WordCloud\n",
    "import pandas as pd\n",
    "pd.set_option('display.max_rows', 500)\n",
    "pd.set_option('display.max_colwidth', None)"
   ]
  },
  {
   "cell_type": "code",
   "execution_count": 15,
   "id": "b4804bfe",
   "metadata": {},
   "outputs": [
    {
     "name": "stderr",
     "output_type": "stream",
     "text": [
      "892098it [00:14, 63437.12it/s]\n"
     ]
    }
   ],
   "source": [
    "data = []\n",
    "label = []\n",
    "label_sentiment = ['safe for work']\n",
    "\n",
    "with open('safe-sentiment.jsonl') as f:\n",
    "    for x in tqdm(f):\n",
    "        try:\n",
    "            result = json.loads(x)\n",
    "            if eval(result['output'])['label'] in label_sentiment and result['label'] != 'LABEL_0':\n",
    "                data.append(result)\n",
    "                label.append(eval(result['output'])['label'])\n",
    "                \n",
    "        except SyntaxError as e:\n",
    "            try: \n",
    "                ls = eval(result['output']+ '}')\n",
    "                if eval(result['output']+ '}')['label'] in label_sentiment and result['label'] != 'LABEL_0':\n",
    "                    data.append(result)\n",
    "                    label.append(eval(result['output']+'}')['label'])\n",
    "\n",
    "\n",
    "            except Exception as e:\n",
    "                continue\n",
    "        except:\n",
    "            continue"
   ]
  },
  {
   "cell_type": "code",
   "execution_count": 16,
   "id": "6e166b12",
   "metadata": {},
   "outputs": [
    {
     "data": {
      "text/plain": [
       "32461"
      ]
     },
     "execution_count": 16,
     "metadata": {},
     "output_type": "execute_result"
    }
   ],
   "source": [
    "len(data)"
   ]
  },
  {
   "cell_type": "code",
   "execution_count": 18,
   "id": "61f6db26",
   "metadata": {},
   "outputs": [
    {
     "data": {
      "text/plain": [
       "10000"
      ]
     },
     "execution_count": 18,
     "metadata": {},
     "output_type": "execute_result"
    }
   ],
   "source": [
    "random.shuffle(data)\n",
    "\n",
    "output = random.choices(data, k=10000)\n",
    "len(output)"
   ]
  },
  {
   "cell_type": "code",
   "execution_count": 20,
   "id": "560bae8e",
   "metadata": {},
   "outputs": [],
   "source": [
    "with open('sfw-dataset.jsonl', 'a') as f:\n",
    "    for i in range(len(output)):\n",
    "        json.dump(output[i], f)\n",
    "        f.write('\\n')"
   ]
  },
  {
   "cell_type": "code",
   "execution_count": 3,
   "id": "fb762cfa",
   "metadata": {},
   "outputs": [
    {
     "data": {
      "text/plain": [
       "{'en': \"It's good that Mawi gives opportunities to talented juniors regardless of gender to showcase their talents. When they appear with Mawi, there are people who are interested in taking them on again.\",\n",
       " 'left': 'bagusla mawi bagi peluang kat junior2 dia yang berbakat tak kira lelaki atau perempuan untuk tonjolkan bakat, bila appear dgn mawi ada la orang tertarik nak ambik lagi',\n",
       " 'ms': 'Baguslah Mawi memberi peluang kepada junior-junior yang berbakat tanpa mengira jantina untuk menonjolkan bakat mereka. Apabila mereka muncul bersama Mawi, terdapat orang yang berminat untuk mengambil mereka lagi.',\n",
       " 'output': '{\\n\"label\": \"informative\",\\n\"explain\": \"The text is discussing Mawi providing opportunities for talented juniors to showcase their abilities and the positive outcomes that come from it. No offensive or harmful content is present in the text.\"\\n}',\n",
       " 'label': 'LABEL_2',\n",
       " 'score': 0.9873046875}"
      ]
     },
     "execution_count": 3,
     "metadata": {},
     "output_type": "execute_result"
    }
   ],
   "source": [
    "data[0]"
   ]
  },
  {
   "cell_type": "code",
   "execution_count": 8,
   "id": "e9d23dfd",
   "metadata": {},
   "outputs": [],
   "source": [
    "!rm -rf informative-safe-for-work-data.jsonl\n",
    "!rm -rf safe-sentiment.jsonl"
   ]
  },
  {
   "cell_type": "code",
   "execution_count": 9,
   "id": "2b4deb80",
   "metadata": {},
   "outputs": [],
   "source": [
    "with open('informative-safe-for-work-data.jsonl','a') as fopen:\n",
    "    for x in data:\n",
    "        json.dump(x,fopen)\n",
    "        fopen.write('\\n')"
   ]
  }
 ],
 "metadata": {
  "kernelspec": {
   "display_name": "Python 3 (ipykernel)",
   "language": "python",
   "name": "python3"
  },
  "language_info": {
   "codemirror_mode": {
    "name": "ipython",
    "version": 3
   },
   "file_extension": ".py",
   "mimetype": "text/x-python",
   "name": "python",
   "nbconvert_exporter": "python",
   "pygments_lexer": "ipython3",
   "version": "3.10.12"
  }
 },
 "nbformat": 4,
 "nbformat_minor": 5
}
