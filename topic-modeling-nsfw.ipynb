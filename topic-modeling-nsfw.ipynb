{
 "cells": [
  {
   "cell_type": "code",
   "execution_count": 13,
   "id": "e7e5e24e",
   "metadata": {},
   "outputs": [],
   "source": [
    "# !wget https://huggingface.co/datasets/malaysia-ai/Malaysian-NSFW/resolve/main/malaysian-dataset-sfw-dedup-v2.jsonl\n",
    "# !wget https://raw.githubusercontent.com/6/stopwords-json/master/dist/en.json"
   ]
  },
  {
   "cell_type": "code",
   "execution_count": 1,
   "id": "ee2d516a",
   "metadata": {},
   "outputs": [
    {
     "name": "stderr",
     "output_type": "stream",
     "text": [
      "/root/app/venv/lib/python3.11/site-packages/tqdm/auto.py:21: TqdmWarning: IProgress not found. Please update jupyter and ipywidgets. See https://ipywidgets.readthedocs.io/en/stable/user_install.html\n",
      "  from .autonotebook import tqdm as notebook_tqdm\n",
      "/root/app/malaya/malaya/tokenizer.py:214: FutureWarning: Possible nested set at position 3397\n",
      "  self.tok = re.compile(r'({})'.format('|'.join(pipeline)))\n",
      "/root/app/malaya/malaya/tokenizer.py:214: FutureWarning: Possible nested set at position 3927\n",
      "  self.tok = re.compile(r'({})'.format('|'.join(pipeline)))\n"
     ]
    }
   ],
   "source": [
    "import malaya\n",
    "import json\n",
    "import os\n",
    "from tqdm import tqdm\n",
    "from collections import defaultdict\n",
    "from sklearn.decomposition import LatentDirichletAllocation\n",
    "from malaya.text.vectorizer import TfidfVectorizer"
   ]
  },
  {
   "cell_type": "code",
   "execution_count": 3,
   "id": "b1615321",
   "metadata": {},
   "outputs": [
    {
     "data": {
      "text/plain": [
       "10"
      ]
     },
     "execution_count": 3,
     "metadata": {},
     "output_type": "execute_result"
    }
   ],
   "source": [
    "labels = defaultdict(list)\n",
    "with open('malaysian-dataset-sfw-dedup-v2.jsonl') as fopen:\n",
    "    for l in fopen:\n",
    "        l = json.loads(l)\n",
    "        labels[l['label']].append(l['text'])\n",
    "len(labels)"
   ]
  },
  {
   "cell_type": "code",
   "execution_count": 14,
   "id": "7ad3255b",
   "metadata": {},
   "outputs": [],
   "source": [
    "with open('en.json') as fopen:\n",
    "    en = json.load(fopen)\n",
    "    \n",
    "stopwords = malaya.text.function.get_stopwords()\n",
    "stopwords = stopwords + en + ['lor', 'pm', 'long', 'jer', 'time', 'feel', 'liao', 'wow', 'https', 'http', 've', 'ko', 'kena', 'post', 'ni', 'tu', 'don', 'je', 'jeh', 'la', 'tau', 'haha', 'hahaha', 'hahahaha']\n",
    "stopwords += ['for me', 'to be', 'in the', 'me to', 'for me to']"
   ]
  },
  {
   "cell_type": "code",
   "execution_count": 16,
   "id": "ee7dc702",
   "metadata": {},
   "outputs": [
    {
     "name": "stderr",
     "output_type": "stream",
     "text": [
      "100%|███████████████████████████████████████████████████████████████████████████████████| 10/10 [01:55<00:00, 11.54s/it]\n"
     ]
    }
   ],
   "source": [
    "for k in tqdm(labels.keys()):\n",
    "    filename = f\"{k.replace(' ', '-')}.json\"\n",
    "    if os.path.exists(filename):\n",
    "        continue\n",
    "    vectorizer = TfidfVectorizer(\n",
    "        max_df = 0.95,\n",
    "        min_df = 2,\n",
    "        ngram_range = (1, 1),\n",
    "        stop_words = stopwords\n",
    "    )\n",
    "    lda = malaya.topic_model.decomposition.fit(\n",
    "        labels[k],\n",
    "        LatentDirichletAllocation,\n",
    "        vectorizer = vectorizer,\n",
    "        n_topics = 1,\n",
    "    )\n",
    "    unigram = lda.top_topics(1, top_n = 10, return_df = False)\n",
    "    \n",
    "    vectorizer = TfidfVectorizer(\n",
    "        max_df = 0.95,\n",
    "        min_df = 2,\n",
    "        ngram_range = (2, 2),\n",
    "        stop_words = stopwords\n",
    "    )\n",
    "    lda = malaya.topic_model.decomposition.fit(\n",
    "        labels[k],\n",
    "        LatentDirichletAllocation,\n",
    "        vectorizer = vectorizer,\n",
    "        n_topics = 1,\n",
    "    )\n",
    "    bigram = lda.top_topics(1, top_n = 10, return_df = False)\n",
    "    \n",
    "    with open(filename, 'w') as fopen:\n",
    "        json.dump([unigram, bigram], fopen)"
   ]
  },
  {
   "cell_type": "code",
   "execution_count": null,
   "id": "6a83cc6e",
   "metadata": {},
   "outputs": [],
   "source": []
  }
 ],
 "metadata": {
  "kernelspec": {
   "display_name": "Python 3 (ipykernel)",
   "language": "python",
   "name": "python3"
  },
  "language_info": {
   "codemirror_mode": {
    "name": "ipython",
    "version": 3
   },
   "file_extension": ".py",
   "mimetype": "text/x-python",
   "name": "python",
   "nbconvert_exporter": "python",
   "pygments_lexer": "ipython3",
   "version": "3.11.9"
  }
 },
 "nbformat": 4,
 "nbformat_minor": 5
}
